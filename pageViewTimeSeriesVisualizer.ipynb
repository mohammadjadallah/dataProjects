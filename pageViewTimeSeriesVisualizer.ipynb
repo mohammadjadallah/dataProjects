{
 "cells": [
  {
   "cell_type": "markdown",
   "id": "208db981-53e4-4147-ab64-9de95ec6d6cc",
   "metadata": {
    "tags": []
   },
   "source": [
    "# Page View Time Series Visualizer"
   ]
  },
  {
   "cell_type": "markdown",
   "id": "790a14d0-b858-43f8-a7ba-46086e191f3e",
   "metadata": {},
   "source": [
    "For this project you will visualize time series data using a line chart, bar chart, and box plots. You will use Pandas, Matplotlib, and Seaborn to visualize a dataset containing the number of page views each day on the freeCodeCamp.org forum from 2016-05-09 to 2019-12-03. The data visualizations will help you understand the patterns in visits and identify yearly and monthly growth.\n",
    "\n",
    "Use the data to complete the following tasks:\n",
    "\n",
    "    Use Pandas to import the data from \"fcc-forum-pageviews.csv\". Set the index to the date column.\n",
    "    \n",
    "    Clean the data by filtering out days when the page views were in the top 2.5% of the dataset or bottom 2.5% of the dataset.\n",
    "    \n",
    "    Create a draw_line_plot function that uses Matplotlib to draw a line chart similar to \"examples/Figure_1.png\". The title should be Daily freeCodeCamp Forum Page Views 5/2016-12/2019. The label on the x axis should be Date and the label on the y axis should be Page Views.\n",
    "    \n",
    "    Create a draw_bar_plot function that draws a bar chart similar to \"examples/Figure_2.png\". It should show average daily page views for each month grouped by year. The legend should show month labels and have a title of Months. On the chart, the label on the x axis should be Years and the label on the y axis should be Average Page Views.\n",
    "    \n",
    "    Create a draw_box_plot function that uses Seaborn to draw two adjacent box plots similar to \"examples/Figure_3.png\". These box plots should show how the values are distributed within a given year or month and how it compares over time. The title of the first chart should be Year-wise Box Plot (Trend) and the title of the second chart should be Month-wise Box Plot (Seasonality). Make sure the month labels on bottom start at Jan and the x and y axis are labeled correctly. The boilerplate includes commands to prepare the data."
   ]
  },
  {
   "cell_type": "code",
   "execution_count": 1,
   "id": "0709d424-8a83-4018-8f13-f4e714262c96",
   "metadata": {},
   "outputs": [],
   "source": [
    "import matplotlib.pyplot as plt\n",
    "import pandas as pd\n",
    "import seaborn as sns\n",
    "from pandas.plotting import register_matplotlib_converters\n",
    "\n",
    "# Import data (Make sure to parse dates. Consider setting index column to 'date'.)\n",
    "df = pd.read_csv('fcc-forum-pageviews.csv', parse_dates=['date'], index_col=['date'])\n",
    "\n",
    "# Clean data\n",
    "df = df[(df['value'] >= df['value'].quantile(0.025)) & (df['value'] <= df['value'].quantile(0.975))]\n",
    "\n",
    "\n",
    "def draw_line_plot():\n",
    "    # Copy and modify data for monthly bar plot\n",
    "    df_bar = df.copy()\n",
    "    df_bar[\"Years\"] = df_bar.index.year\n",
    "    df_bar[\"Months\"] = df_bar.index.month_name()\n",
    "    df_bar = pd.DataFrame(df_bar.groupby([\"Years\", \"Months\"], sort=False)[\"value\"].mean().round().astype(int))\n",
    "    df_bar = df_bar.rename(columns={\"value\": \"Average Page Views\"})\n",
    "    df_bar = df_bar.reset_index()\n",
    "    missing_data = {\n",
    "        \"Years\": [2016, 2016, 2016, 2016],\n",
    "        \"Months\": ['January', 'February', 'March', 'April'],\n",
    "        \"Average Page Views\": [0, 0, 0, 0]\n",
    "    }\n",
    "\n",
    "    df_bar = pd.concat([pd.DataFrame(missing_data), df_bar])\n",
    "\n",
    "    # Draw bar plot\n",
    "    fig, ax = plt.subplots(figsize=(19.2, 10.8), dpi=100)\n",
    "    ax.set_title(\"Daily freeCodeCamp Forum Average Page Views per Month\")\n",
    "\n",
    "    chart = sns.barplot(data=df_bar, x=\"Years\", y=\"Average Page Views\", hue=\"Months\", palette=\"tab10\")\n",
    "    chart.set_xticklabels(chart.get_xticklabels(), rotation=90, horizontalalignment='center')\n",
    "\n",
    "    # Save image and return fig (don't change this part)\n",
    "    fig.savefig('bar_plot.png')\n",
    "    return fig\n",
    "\n",
    "\n",
    "def draw_box_plot():\n",
    "    # Prepare data for box plots (this part is done!)\n",
    "    df_box = df.copy()\n",
    "    df_box.reset_index(inplace=True)\n",
    "    df_box['year'] = [d.year for d in df_box.date]\n",
    "    months = [d.strftime('%b') for d in df_box.date]\n",
    "    df_box['month'] = months\n",
    "\n",
    "    # Draw box plots (using Seaborn)\n",
    "    # January, February, March, April, May, June, July, August, September, October, November, and December\n",
    "    months = [\n",
    "        'Jan',\n",
    "        'Feb',\n",
    "        'Mar',\n",
    "        'Apr',\n",
    "        'May',\n",
    "        'Jun',\n",
    "        'Jul',\n",
    "        'Aug',\n",
    "        'Sep',\n",
    "        'Oct',\n",
    "        'Nov',\n",
    "        'Dec',\n",
    "             ]\n",
    "\n",
    "\n",
    "    fig, ax = plt.subplots(1, 2, figsize=(15, 5), dpi=100)\n",
    "    ax[0].ticklabel_format(style='plain')\n",
    "    ax[1].ticklabel_format(style='plain')\n",
    "\n",
    "    # Year-wise Box Plot (Trend)\n",
    "    ax[0] = sns.boxplot(x=df_box[\"year\"], y=df_box[\"value\"], ax=ax[0])\n",
    "    ax[0].set_title(\"Year-wise Box Plot (Trend)\")\n",
    "    ax[0].set_xlabel(\"Year\")\n",
    "    ax[0].set_ylabel(\"Page Views\")\n",
    "\n",
    "    ax[1] = sns.boxplot(x=df_box[\"month\"], y=df_box[\"value\"], order=months, ax=ax[1])\n",
    "    ax[1].set_title(\"Month-wise Box Plot (Seasonality)\")\n",
    "    ax[1].set_xlabel(\"Month\")\n",
    "    ax[1].set_ylabel(\"Page Views\")\n",
    "\n",
    "    # Save image and return fig (don't change this part)\n",
    "    fig.savefig('box_plot.png')\n",
    "    return fig\n"
   ]
  },
  {
   "cell_type": "code",
   "execution_count": 2,
   "id": "27f03237-d199-445e-b9bd-f13333687a33",
   "metadata": {},
   "outputs": [],
   "source": [
    "# Finished..."
   ]
  }
 ],
 "metadata": {
  "kernelspec": {
   "display_name": "Python 3 (ipykernel)",
   "language": "python",
   "name": "python3"
  },
  "language_info": {
   "codemirror_mode": {
    "name": "ipython",
    "version": 3
   },
   "file_extension": ".py",
   "mimetype": "text/x-python",
   "name": "python",
   "nbconvert_exporter": "python",
   "pygments_lexer": "ipython3",
   "version": "3.10.4"
  }
 },
 "nbformat": 4,
 "nbformat_minor": 5
}
